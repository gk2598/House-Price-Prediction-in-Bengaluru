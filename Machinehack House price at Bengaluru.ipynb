{
 "cells": [
  {
   "cell_type": "code",
   "execution_count": 188,
   "metadata": {},
   "outputs": [],
   "source": [
    "import pandas as pd\n",
    "import numpy as np\n",
    "import matplotlib.pyplot as plt\n",
    "import seaborn as sns"
   ]
  },
  {
   "cell_type": "code",
   "execution_count": 189,
   "metadata": {},
   "outputs": [
    {
     "name": "stdout",
     "output_type": "stream",
     "text": [
      "(13320, 9)\n",
      "              area_type   availability                  location       size  \\\n",
      "0  Super built-up  Area         19-Dec  Electronic City Phase II      2 BHK   \n",
      "1            Plot  Area  Ready To Move          Chikka Tirupathi  4 Bedroom   \n",
      "2        Built-up  Area  Ready To Move               Uttarahalli      3 BHK   \n",
      "3  Super built-up  Area  Ready To Move        Lingadheeranahalli      3 BHK   \n",
      "4  Super built-up  Area  Ready To Move                  Kothanur      2 BHK   \n",
      "\n",
      "   society total_sqft  bath  balcony   price  \n",
      "0  Coomee        1056   2.0      1.0   39.07  \n",
      "1  Theanmp       2600   5.0      3.0  120.00  \n",
      "2      NaN       1440   2.0      3.0   62.00  \n",
      "3  Soiewre       1521   3.0      1.0   95.00  \n",
      "4      NaN       1200   2.0      1.0   51.00  \n"
     ]
    }
   ],
   "source": [
    "train_data=pd.read_csv(r'C:\\Users\\Gaurav Kesari\\House Price in Bengaluru\\train.csv')\n",
    "print(train_data.shape)\n",
    "print(train_data.head())\n"
   ]
  },
  {
   "cell_type": "code",
   "execution_count": null,
   "metadata": {},
   "outputs": [],
   "source": []
  },
  {
   "cell_type": "code",
   "execution_count": 190,
   "metadata": {},
   "outputs": [
    {
     "name": "stdout",
     "output_type": "stream",
     "text": [
      "(1480, 9)\n",
      "              area_type   availability           location       size  society  \\\n",
      "0  Super built-up  Area  Ready To Move        Brookefield      2 BHK  Roeekbl   \n",
      "1            Plot  Area  Ready To Move      Akshaya Nagar  9 Bedroom      NaN   \n",
      "2            Plot  Area         18-Apr        Hennur Road  4 Bedroom  Saandtt   \n",
      "3  Super built-up  Area  Ready To Move  Kodichikkanahalli      3 BHK  Winerri   \n",
      "4  Super built-up  Area  Ready To Move        Konanakunte      2 BHK  AmageSa   \n",
      "\n",
      "  total_sqft  bath  balcony  price  \n",
      "0       1225   2.0      2.0    NaN  \n",
      "1       2400   9.0      2.0    NaN  \n",
      "2       1650   5.0      2.0    NaN  \n",
      "3       1322   3.0      1.0    NaN  \n",
      "4       1161   2.0      1.0    NaN  \n"
     ]
    }
   ],
   "source": [
    "test_data=pd.read_csv(r'C:\\Users\\Gaurav Kesari\\house Price in Bengaluru\\test.csv')\n",
    "print(test_data.shape)\n",
    "print(test_data.head())                    \n",
    "                "
   ]
  },
  {
   "cell_type": "code",
   "execution_count": 191,
   "metadata": {},
   "outputs": [
    {
     "data": {
      "text/plain": [
       "Index(['area_type', 'availability', 'location', 'size', 'society',\n",
       "       'total_sqft', 'bath', 'balcony', 'price'],\n",
       "      dtype='object')"
      ]
     },
     "execution_count": 191,
     "metadata": {},
     "output_type": "execute_result"
    }
   ],
   "source": [
    "train_data.columns"
   ]
  },
  {
   "cell_type": "code",
   "execution_count": 192,
   "metadata": {},
   "outputs": [
    {
     "data": {
      "text/plain": [
       "Index(['area_type', 'availability', 'location', 'size', 'society',\n",
       "       'total_sqft', 'bath', 'balcony', 'price'],\n",
       "      dtype='object')"
      ]
     },
     "execution_count": 192,
     "metadata": {},
     "output_type": "execute_result"
    }
   ],
   "source": [
    "test_data.columns"
   ]
  },
  {
   "cell_type": "code",
   "execution_count": 193,
   "metadata": {},
   "outputs": [],
   "source": [
    "test=test_data.drop(['price','society'], axis=1)\n"
   ]
  },
  {
   "cell_type": "code",
   "execution_count": 194,
   "metadata": {},
   "outputs": [
    {
     "name": "stdout",
     "output_type": "stream",
     "text": [
      "(1480, 7)\n"
     ]
    }
   ],
   "source": [
    "print(test.shape)"
   ]
  },
  {
   "cell_type": "code",
   "execution_count": 195,
   "metadata": {},
   "outputs": [
    {
     "name": "stdout",
     "output_type": "stream",
     "text": [
      "<class 'pandas.core.frame.DataFrame'>\n",
      "RangeIndex: 13320 entries, 0 to 13319\n",
      "Data columns (total 9 columns):\n",
      " #   Column        Non-Null Count  Dtype  \n",
      "---  ------        --------------  -----  \n",
      " 0   area_type     13320 non-null  object \n",
      " 1   availability  13320 non-null  object \n",
      " 2   location      13319 non-null  object \n",
      " 3   size          13304 non-null  object \n",
      " 4   society       7818 non-null   object \n",
      " 5   total_sqft    13320 non-null  object \n",
      " 6   bath          13247 non-null  float64\n",
      " 7   balcony       12711 non-null  float64\n",
      " 8   price         13320 non-null  float64\n",
      "dtypes: float64(3), object(6)\n",
      "memory usage: 936.7+ KB\n"
     ]
    }
   ],
   "source": [
    "train_data.info()"
   ]
  },
  {
   "cell_type": "code",
   "execution_count": 196,
   "metadata": {},
   "outputs": [
    {
     "name": "stdout",
     "output_type": "stream",
     "text": [
      "train data with null values:\n",
      " area_type          0\n",
      "availability       0\n",
      "location           1\n",
      "size              16\n",
      "society         5502\n",
      "total_sqft         0\n",
      "bath              73\n",
      "balcony          609\n",
      "price              0\n",
      "dtype: int64\n"
     ]
    }
   ],
   "source": [
    "print('train data with null values:\\n', train_data.isnull().sum())"
   ]
  },
  {
   "cell_type": "code",
   "execution_count": 197,
   "metadata": {},
   "outputs": [
    {
     "name": "stdout",
     "output_type": "stream",
     "text": [
      "test data with null values:\n",
      " area_type        0\n",
      "availability     0\n",
      "location         0\n",
      "size             2\n",
      "total_sqft       0\n",
      "bath             7\n",
      "balcony         69\n",
      "dtype: int64\n"
     ]
    }
   ],
   "source": [
    "print('test data with null values:\\n', test.isnull().sum())"
   ]
  },
  {
   "cell_type": "code",
   "execution_count": 198,
   "metadata": {},
   "outputs": [],
   "source": [
    "import collections"
   ]
  },
  {
   "cell_type": "code",
   "execution_count": 199,
   "metadata": {},
   "outputs": [
    {
     "name": "stdout",
     "output_type": "stream",
     "text": [
      "Counter({'Super built-up  Area': 8790, 'Built-up  Area': 2418, 'Plot  Area': 2025, 'Carpet  Area': 87})\n"
     ]
    }
   ],
   "source": [
    "area_type_train=collections.Counter(train_data.area_type)\n",
    "print(area_type_train)"
   ]
  },
  {
   "cell_type": "code",
   "execution_count": 200,
   "metadata": {},
   "outputs": [],
   "source": [
    "### plt.figure(figsize=(14,6))\n",
    "###sns.scatterplot(x = train_data['area_type'], y=train_data['price'])\n"
   ]
  },
  {
   "cell_type": "code",
   "execution_count": 201,
   "metadata": {},
   "outputs": [
    {
     "data": {
      "text/html": [
       "<div>\n",
       "<style scoped>\n",
       "    .dataframe tbody tr th:only-of-type {\n",
       "        vertical-align: middle;\n",
       "    }\n",
       "\n",
       "    .dataframe tbody tr th {\n",
       "        vertical-align: top;\n",
       "    }\n",
       "\n",
       "    .dataframe thead th {\n",
       "        text-align: right;\n",
       "    }\n",
       "</style>\n",
       "<table border=\"1\" class=\"dataframe\">\n",
       "  <thead>\n",
       "    <tr style=\"text-align: right;\">\n",
       "      <th></th>\n",
       "      <th>Category</th>\n",
       "      <th>Numbers</th>\n",
       "    </tr>\n",
       "  </thead>\n",
       "  <tbody>\n",
       "    <tr>\n",
       "      <th>1</th>\n",
       "      <td>Ready To Move</td>\n",
       "      <td>10581</td>\n",
       "    </tr>\n",
       "    <tr>\n",
       "      <th>17</th>\n",
       "      <td>18-Dec</td>\n",
       "      <td>307</td>\n",
       "    </tr>\n",
       "    <tr>\n",
       "      <th>2</th>\n",
       "      <td>18-May</td>\n",
       "      <td>295</td>\n",
       "    </tr>\n",
       "    <tr>\n",
       "      <th>12</th>\n",
       "      <td>18-Apr</td>\n",
       "      <td>271</td>\n",
       "    </tr>\n",
       "    <tr>\n",
       "      <th>23</th>\n",
       "      <td>18-Aug</td>\n",
       "      <td>200</td>\n",
       "    </tr>\n",
       "    <tr>\n",
       "      <th>0</th>\n",
       "      <td>19-Dec</td>\n",
       "      <td>185</td>\n",
       "    </tr>\n",
       "    <tr>\n",
       "      <th>26</th>\n",
       "      <td>18-Jul</td>\n",
       "      <td>143</td>\n",
       "    </tr>\n",
       "    <tr>\n",
       "      <th>10</th>\n",
       "      <td>18-Mar</td>\n",
       "      <td>131</td>\n",
       "    </tr>\n",
       "    <tr>\n",
       "      <th>20</th>\n",
       "      <td>18-Jun</td>\n",
       "      <td>99</td>\n",
       "    </tr>\n",
       "    <tr>\n",
       "      <th>5</th>\n",
       "      <td>20-Dec</td>\n",
       "      <td>98</td>\n",
       "    </tr>\n",
       "  </tbody>\n",
       "</table>\n",
       "</div>"
      ],
      "text/plain": [
       "         Category  Numbers\n",
       "1   Ready To Move    10581\n",
       "17         18-Dec      307\n",
       "2          18-May      295\n",
       "12         18-Apr      271\n",
       "23         18-Aug      200\n",
       "0          19-Dec      185\n",
       "26         18-Jul      143\n",
       "10         18-Mar      131\n",
       "20         18-Jun       99\n",
       "5          20-Dec       98"
      ]
     },
     "execution_count": 201,
     "metadata": {},
     "output_type": "execute_result"
    }
   ],
   "source": [
    "availability_train=collections.Counter(train_data.availability)\n",
    "availability_train_list=pd.DataFrame(availability_train.items(), columns=[\"Category\", \"Numbers\"]).sort_values(by=\"Numbers\", ascending=False)\n",
    "availability_train_list.head(10)"
   ]
  },
  {
   "cell_type": "code",
   "execution_count": null,
   "metadata": {},
   "outputs": [],
   "source": []
  },
  {
   "cell_type": "code",
   "execution_count": 202,
   "metadata": {},
   "outputs": [
    {
     "data": {
      "text/html": [
       "<div>\n",
       "<style scoped>\n",
       "    .dataframe tbody tr th:only-of-type {\n",
       "        vertical-align: middle;\n",
       "    }\n",
       "\n",
       "    .dataframe tbody tr th {\n",
       "        vertical-align: top;\n",
       "    }\n",
       "\n",
       "    .dataframe thead th {\n",
       "        text-align: right;\n",
       "    }\n",
       "</style>\n",
       "<table border=\"1\" class=\"dataframe\">\n",
       "  <thead>\n",
       "    <tr style=\"text-align: right;\">\n",
       "      <th></th>\n",
       "      <th>bath</th>\n",
       "      <th>balcony</th>\n",
       "      <th>price</th>\n",
       "    </tr>\n",
       "  </thead>\n",
       "  <tbody>\n",
       "    <tr>\n",
       "      <th>count</th>\n",
       "      <td>13247.000000</td>\n",
       "      <td>12711.000000</td>\n",
       "      <td>13320.000000</td>\n",
       "    </tr>\n",
       "    <tr>\n",
       "      <th>mean</th>\n",
       "      <td>2.692610</td>\n",
       "      <td>1.584376</td>\n",
       "      <td>112.565627</td>\n",
       "    </tr>\n",
       "    <tr>\n",
       "      <th>std</th>\n",
       "      <td>1.341458</td>\n",
       "      <td>0.817263</td>\n",
       "      <td>148.971674</td>\n",
       "    </tr>\n",
       "    <tr>\n",
       "      <th>min</th>\n",
       "      <td>1.000000</td>\n",
       "      <td>0.000000</td>\n",
       "      <td>8.000000</td>\n",
       "    </tr>\n",
       "    <tr>\n",
       "      <th>25%</th>\n",
       "      <td>2.000000</td>\n",
       "      <td>1.000000</td>\n",
       "      <td>50.000000</td>\n",
       "    </tr>\n",
       "    <tr>\n",
       "      <th>50%</th>\n",
       "      <td>2.000000</td>\n",
       "      <td>2.000000</td>\n",
       "      <td>72.000000</td>\n",
       "    </tr>\n",
       "    <tr>\n",
       "      <th>75%</th>\n",
       "      <td>3.000000</td>\n",
       "      <td>2.000000</td>\n",
       "      <td>120.000000</td>\n",
       "    </tr>\n",
       "    <tr>\n",
       "      <th>max</th>\n",
       "      <td>40.000000</td>\n",
       "      <td>3.000000</td>\n",
       "      <td>3600.000000</td>\n",
       "    </tr>\n",
       "  </tbody>\n",
       "</table>\n",
       "</div>"
      ],
      "text/plain": [
       "               bath       balcony         price\n",
       "count  13247.000000  12711.000000  13320.000000\n",
       "mean       2.692610      1.584376    112.565627\n",
       "std        1.341458      0.817263    148.971674\n",
       "min        1.000000      0.000000      8.000000\n",
       "25%        2.000000      1.000000     50.000000\n",
       "50%        2.000000      2.000000     72.000000\n",
       "75%        3.000000      2.000000    120.000000\n",
       "max       40.000000      3.000000   3600.000000"
      ]
     },
     "execution_count": 202,
     "metadata": {},
     "output_type": "execute_result"
    }
   ],
   "source": [
    "train_data.describe()\n",
    "\n"
   ]
  },
  {
   "cell_type": "code",
   "execution_count": 203,
   "metadata": {},
   "outputs": [
    {
     "data": {
      "text/plain": [
       "area_type          4\n",
       "availability      81\n",
       "location        1305\n",
       "size              31\n",
       "society         2688\n",
       "total_sqft      2117\n",
       "bath              19\n",
       "balcony            4\n",
       "price           1994\n",
       "dtype: int64"
      ]
     },
     "execution_count": 203,
     "metadata": {},
     "output_type": "execute_result"
    }
   ],
   "source": [
    "train_data.nunique()"
   ]
  },
  {
   "cell_type": "code",
   "execution_count": 204,
   "metadata": {},
   "outputs": [
    {
     "data": {
      "text/plain": [
       "Ready To Move    10581\n",
       "18-Dec             307\n",
       "18-May             295\n",
       "18-Apr             271\n",
       "18-Aug             200\n",
       "19-Dec             185\n",
       "18-Jul             143\n",
       "18-Mar             131\n",
       "18-Jun              99\n",
       "20-Dec              98\n",
       "21-Dec              93\n",
       "19-Mar              88\n",
       "18-Feb              62\n",
       "18-Nov              47\n",
       "18-Jan              43\n",
       "18-Sep              41\n",
       "19-Jun              40\n",
       "19-Jan              39\n",
       "18-Oct              39\n",
       "19-Jul              36\n",
       "Name: availability, dtype: int64"
      ]
     },
     "execution_count": 204,
     "metadata": {},
     "output_type": "execute_result"
    }
   ],
   "source": [
    "#sns.pairplot(train_data)\n",
    "train_data['availability'].value_counts().head(20)"
   ]
  },
  {
   "cell_type": "code",
   "execution_count": 205,
   "metadata": {},
   "outputs": [
    {
     "name": "stdout",
     "output_type": "stream",
     "text": [
      "(13320, 9)\n"
     ]
    }
   ],
   "source": [
    "print(train_data.shape)"
   ]
  },
  {
   "cell_type": "code",
   "execution_count": 206,
   "metadata": {},
   "outputs": [],
   "source": [
    "#corelation = train_data.corr()"
   ]
  },
  {
   "cell_type": "code",
   "execution_count": 207,
   "metadata": {},
   "outputs": [],
   "source": [
    "#sns.heatmap(corelation, xticklabels=corelation.columns, yticklabels=corelation.columns, annot=True)"
   ]
  },
  {
   "cell_type": "code",
   "execution_count": 208,
   "metadata": {},
   "outputs": [],
   "source": [
    "#sns.scatterplot(x=train_data['location'], y=train_data['price'])\n"
   ]
  },
  {
   "cell_type": "code",
   "execution_count": 209,
   "metadata": {},
   "outputs": [],
   "source": [
    "#location_train_missing=pd.isnull(train_data[\"location\"])\n",
    "#train_data[location_train_missing]"
   ]
  },
  {
   "cell_type": "code",
   "execution_count": 210,
   "metadata": {},
   "outputs": [],
   "source": [
    "#train_data=train_data.drop(train_data.index[568])\n",
    "#print(train_data.shape)\n",
    "train_data['location']=train_data['location'].fillna(\"locationnotprovided\")"
   ]
  },
  {
   "cell_type": "code",
   "execution_count": 211,
   "metadata": {},
   "outputs": [],
   "source": [
    "train_data=train_data.drop('society', axis=1)\n"
   ]
  },
  {
   "cell_type": "code",
   "execution_count": 212,
   "metadata": {},
   "outputs": [
    {
     "data": {
      "text/html": [
       "<div>\n",
       "<style scoped>\n",
       "    .dataframe tbody tr th:only-of-type {\n",
       "        vertical-align: middle;\n",
       "    }\n",
       "\n",
       "    .dataframe tbody tr th {\n",
       "        vertical-align: top;\n",
       "    }\n",
       "\n",
       "    .dataframe thead th {\n",
       "        text-align: right;\n",
       "    }\n",
       "</style>\n",
       "<table border=\"1\" class=\"dataframe\">\n",
       "  <thead>\n",
       "    <tr style=\"text-align: right;\">\n",
       "      <th></th>\n",
       "      <th>area_type</th>\n",
       "      <th>availability</th>\n",
       "      <th>location</th>\n",
       "      <th>size</th>\n",
       "      <th>total_sqft</th>\n",
       "      <th>bath</th>\n",
       "      <th>balcony</th>\n",
       "      <th>price</th>\n",
       "    </tr>\n",
       "  </thead>\n",
       "  <tbody>\n",
       "    <tr>\n",
       "      <th>579</th>\n",
       "      <td>Plot  Area</td>\n",
       "      <td>Immediate Possession</td>\n",
       "      <td>Sarjapur  Road</td>\n",
       "      <td>NaN</td>\n",
       "      <td>1200 - 2400</td>\n",
       "      <td>NaN</td>\n",
       "      <td>NaN</td>\n",
       "      <td>34.185</td>\n",
       "    </tr>\n",
       "    <tr>\n",
       "      <th>1775</th>\n",
       "      <td>Plot  Area</td>\n",
       "      <td>Immediate Possession</td>\n",
       "      <td>IVC Road</td>\n",
       "      <td>NaN</td>\n",
       "      <td>2000 - 5634</td>\n",
       "      <td>NaN</td>\n",
       "      <td>NaN</td>\n",
       "      <td>124.000</td>\n",
       "    </tr>\n",
       "    <tr>\n",
       "      <th>2264</th>\n",
       "      <td>Plot  Area</td>\n",
       "      <td>Immediate Possession</td>\n",
       "      <td>Banashankari</td>\n",
       "      <td>NaN</td>\n",
       "      <td>2400</td>\n",
       "      <td>NaN</td>\n",
       "      <td>NaN</td>\n",
       "      <td>460.000</td>\n",
       "    </tr>\n",
       "    <tr>\n",
       "      <th>2809</th>\n",
       "      <td>Plot  Area</td>\n",
       "      <td>Immediate Possession</td>\n",
       "      <td>Sarjapur  Road</td>\n",
       "      <td>NaN</td>\n",
       "      <td>1200 - 2400</td>\n",
       "      <td>NaN</td>\n",
       "      <td>NaN</td>\n",
       "      <td>28.785</td>\n",
       "    </tr>\n",
       "    <tr>\n",
       "      <th>2862</th>\n",
       "      <td>Plot  Area</td>\n",
       "      <td>Immediate Possession</td>\n",
       "      <td>Devanahalli</td>\n",
       "      <td>NaN</td>\n",
       "      <td>1500 - 2400</td>\n",
       "      <td>NaN</td>\n",
       "      <td>NaN</td>\n",
       "      <td>46.800</td>\n",
       "    </tr>\n",
       "    <tr>\n",
       "      <th>5333</th>\n",
       "      <td>Plot  Area</td>\n",
       "      <td>Immediate Possession</td>\n",
       "      <td>Devanahalli</td>\n",
       "      <td>NaN</td>\n",
       "      <td>2100 - 5405</td>\n",
       "      <td>NaN</td>\n",
       "      <td>NaN</td>\n",
       "      <td>177.115</td>\n",
       "    </tr>\n",
       "    <tr>\n",
       "      <th>6423</th>\n",
       "      <td>Plot  Area</td>\n",
       "      <td>Immediate Possession</td>\n",
       "      <td>Whitefield</td>\n",
       "      <td>NaN</td>\n",
       "      <td>2324</td>\n",
       "      <td>NaN</td>\n",
       "      <td>NaN</td>\n",
       "      <td>26.730</td>\n",
       "    </tr>\n",
       "    <tr>\n",
       "      <th>6636</th>\n",
       "      <td>Plot  Area</td>\n",
       "      <td>Immediate Possession</td>\n",
       "      <td>Jigani</td>\n",
       "      <td>NaN</td>\n",
       "      <td>1500</td>\n",
       "      <td>NaN</td>\n",
       "      <td>NaN</td>\n",
       "      <td>25.490</td>\n",
       "    </tr>\n",
       "    <tr>\n",
       "      <th>6719</th>\n",
       "      <td>Plot  Area</td>\n",
       "      <td>Immediate Possession</td>\n",
       "      <td>Hoskote</td>\n",
       "      <td>NaN</td>\n",
       "      <td>800 - 2660</td>\n",
       "      <td>NaN</td>\n",
       "      <td>NaN</td>\n",
       "      <td>28.545</td>\n",
       "    </tr>\n",
       "    <tr>\n",
       "      <th>7680</th>\n",
       "      <td>Plot  Area</td>\n",
       "      <td>Immediate Possession</td>\n",
       "      <td>Kasavanhalli</td>\n",
       "      <td>NaN</td>\n",
       "      <td>5000</td>\n",
       "      <td>NaN</td>\n",
       "      <td>NaN</td>\n",
       "      <td>400.000</td>\n",
       "    </tr>\n",
       "    <tr>\n",
       "      <th>8306</th>\n",
       "      <td>Plot  Area</td>\n",
       "      <td>Immediate Possession</td>\n",
       "      <td>Anekal</td>\n",
       "      <td>NaN</td>\n",
       "      <td>1453</td>\n",
       "      <td>NaN</td>\n",
       "      <td>NaN</td>\n",
       "      <td>16.500</td>\n",
       "    </tr>\n",
       "    <tr>\n",
       "      <th>8565</th>\n",
       "      <td>Plot  Area</td>\n",
       "      <td>Immediate Possession</td>\n",
       "      <td>Carmelaram</td>\n",
       "      <td>NaN</td>\n",
       "      <td>2000</td>\n",
       "      <td>NaN</td>\n",
       "      <td>NaN</td>\n",
       "      <td>120.000</td>\n",
       "    </tr>\n",
       "    <tr>\n",
       "      <th>8703</th>\n",
       "      <td>Plot  Area</td>\n",
       "      <td>Immediate Possession</td>\n",
       "      <td>Mysore Road</td>\n",
       "      <td>NaN</td>\n",
       "      <td>1200 - 2400</td>\n",
       "      <td>NaN</td>\n",
       "      <td>NaN</td>\n",
       "      <td>42.300</td>\n",
       "    </tr>\n",
       "    <tr>\n",
       "      <th>10634</th>\n",
       "      <td>Plot  Area</td>\n",
       "      <td>Immediate Possession</td>\n",
       "      <td>Rajankunte</td>\n",
       "      <td>NaN</td>\n",
       "      <td>1575</td>\n",
       "      <td>NaN</td>\n",
       "      <td>NaN</td>\n",
       "      <td>31.110</td>\n",
       "    </tr>\n",
       "    <tr>\n",
       "      <th>11019</th>\n",
       "      <td>Plot  Area</td>\n",
       "      <td>Immediate Possession</td>\n",
       "      <td>Yelahanka</td>\n",
       "      <td>NaN</td>\n",
       "      <td>1200 - 1800</td>\n",
       "      <td>NaN</td>\n",
       "      <td>NaN</td>\n",
       "      <td>12.750</td>\n",
       "    </tr>\n",
       "    <tr>\n",
       "      <th>11569</th>\n",
       "      <td>Plot  Area</td>\n",
       "      <td>Immediate Possession</td>\n",
       "      <td>Hosur Road</td>\n",
       "      <td>NaN</td>\n",
       "      <td>1350</td>\n",
       "      <td>NaN</td>\n",
       "      <td>NaN</td>\n",
       "      <td>8.440</td>\n",
       "    </tr>\n",
       "  </tbody>\n",
       "</table>\n",
       "</div>"
      ],
      "text/plain": [
       "        area_type          availability        location size   total_sqft  \\\n",
       "579    Plot  Area  Immediate Possession  Sarjapur  Road  NaN  1200 - 2400   \n",
       "1775   Plot  Area  Immediate Possession        IVC Road  NaN  2000 - 5634   \n",
       "2264   Plot  Area  Immediate Possession    Banashankari  NaN         2400   \n",
       "2809   Plot  Area  Immediate Possession  Sarjapur  Road  NaN  1200 - 2400   \n",
       "2862   Plot  Area  Immediate Possession     Devanahalli  NaN  1500 - 2400   \n",
       "5333   Plot  Area  Immediate Possession     Devanahalli  NaN  2100 - 5405   \n",
       "6423   Plot  Area  Immediate Possession      Whitefield  NaN         2324   \n",
       "6636   Plot  Area  Immediate Possession          Jigani  NaN         1500   \n",
       "6719   Plot  Area  Immediate Possession         Hoskote  NaN   800 - 2660   \n",
       "7680   Plot  Area  Immediate Possession    Kasavanhalli  NaN         5000   \n",
       "8306   Plot  Area  Immediate Possession          Anekal  NaN         1453   \n",
       "8565   Plot  Area  Immediate Possession      Carmelaram  NaN         2000   \n",
       "8703   Plot  Area  Immediate Possession     Mysore Road  NaN  1200 - 2400   \n",
       "10634  Plot  Area  Immediate Possession      Rajankunte  NaN         1575   \n",
       "11019  Plot  Area  Immediate Possession       Yelahanka  NaN  1200 - 1800   \n",
       "11569  Plot  Area  Immediate Possession      Hosur Road  NaN         1350   \n",
       "\n",
       "       bath  balcony    price  \n",
       "579     NaN      NaN   34.185  \n",
       "1775    NaN      NaN  124.000  \n",
       "2264    NaN      NaN  460.000  \n",
       "2809    NaN      NaN   28.785  \n",
       "2862    NaN      NaN   46.800  \n",
       "5333    NaN      NaN  177.115  \n",
       "6423    NaN      NaN   26.730  \n",
       "6636    NaN      NaN   25.490  \n",
       "6719    NaN      NaN   28.545  \n",
       "7680    NaN      NaN  400.000  \n",
       "8306    NaN      NaN   16.500  \n",
       "8565    NaN      NaN  120.000  \n",
       "8703    NaN      NaN   42.300  \n",
       "10634   NaN      NaN   31.110  \n",
       "11019   NaN      NaN   12.750  \n",
       "11569   NaN      NaN    8.440  "
      ]
     },
     "execution_count": 212,
     "metadata": {},
     "output_type": "execute_result"
    }
   ],
   "source": [
    "size_train_missing=pd.isnull(train_data[\"size\"])\n",
    "train_data[size_train_missing]\n"
   ]
  },
  {
   "cell_type": "code",
   "execution_count": 213,
   "metadata": {},
   "outputs": [],
   "source": [
    "#size_train=collections.Counter(train_data.size)\n",
    "#size_train_list=pd.DataFrame(size_train.items(), columns=[\"size\", \"frequency\"])\n",
    "#size_train_list.head(35)"
   ]
  },
  {
   "cell_type": "code",
   "execution_count": 214,
   "metadata": {},
   "outputs": [
    {
     "data": {
      "text/plain": [
       "6       NaN\n",
       "7       NaN\n",
       "9       NaN\n",
       "34      NaN\n",
       "40      NaN\n",
       "         ..\n",
       "13277   NaN\n",
       "13279   NaN\n",
       "13306   NaN\n",
       "13309   NaN\n",
       "13316   NaN\n",
       "Name: balcony, Length: 609, dtype: float64"
      ]
     },
     "execution_count": 214,
     "metadata": {},
     "output_type": "execute_result"
    },
    {
     "data": {
      "text/plain": [
       "56      NaN\n",
       "81      NaN\n",
       "224     NaN\n",
       "344     NaN\n",
       "579     NaN\n",
       "         ..\n",
       "11496   NaN\n",
       "11569   NaN\n",
       "12768   NaN\n",
       "12861   NaN\n",
       "13240   NaN\n",
       "Name: bath, Length: 73, dtype: float64"
      ]
     },
     "execution_count": 214,
     "metadata": {},
     "output_type": "execute_result"
    },
    {
     "name": "stdout",
     "output_type": "stream",
     "text": [
      "<class 'pandas.core.frame.DataFrame'>\n",
      "RangeIndex: 13320 entries, 0 to 13319\n",
      "Data columns (total 8 columns):\n",
      " #   Column        Non-Null Count  Dtype  \n",
      "---  ------        --------------  -----  \n",
      " 0   area_type     13320 non-null  object \n",
      " 1   availability  13320 non-null  object \n",
      " 2   location      13320 non-null  object \n",
      " 3   size          13304 non-null  object \n",
      " 4   total_sqft    13320 non-null  object \n",
      " 5   bath          13247 non-null  float64\n",
      " 6   balcony       12711 non-null  float64\n",
      " 7   price         13320 non-null  float64\n",
      "dtypes: float64(3), object(5)\n",
      "memory usage: 832.6+ KB\n"
     ]
    }
   ],
   "source": [
    "combine=[train_data, test]\n",
    "#mode_balcony= train_data.balcony.dropna().mode()[0]\n",
    "\n",
    "train_data['balcony']=train_data.groupby('location')['balcony'].transform(lambda x:x.fillna(x.mode()))\n",
    "test['balcony']=test.groupby('location')['balcony'].transform(lambda x:x.fillna(x.mode()))\n",
    "balcony=train_data[\"balcony\"]\n",
    "balcony[~balcony.notnull()]\n",
    "for dataset in combine:\n",
    "    dataset['balcony']=dataset['balcony'].fillna(balcony.mode())\n",
    "#mode_bath=train_data.bath.dropna().mode()[0]\n",
    "train_data['bath']=train_data.groupby('location')['bath'].transform(lambda x:x.fillna(x.mode()))\n",
    "test['bath']=test.groupby('location')['bath'].transform(lambda x:x.fillna(x.mode()))\n",
    "bath=train_data[\"bath\"]\n",
    "bath[~bath.notnull()]\n",
    "for dataset in combine:\n",
    "    dataset['bath']=dataset['bath'].fillna(bath.mode())\n",
    "train_data.info()"
   ]
  },
  {
   "cell_type": "code",
   "execution_count": 215,
   "metadata": {},
   "outputs": [
    {
     "data": {
      "text/html": [
       "<div>\n",
       "<style scoped>\n",
       "    .dataframe tbody tr th:only-of-type {\n",
       "        vertical-align: middle;\n",
       "    }\n",
       "\n",
       "    .dataframe tbody tr th {\n",
       "        vertical-align: top;\n",
       "    }\n",
       "\n",
       "    .dataframe thead th {\n",
       "        text-align: right;\n",
       "    }\n",
       "</style>\n",
       "<table border=\"1\" class=\"dataframe\">\n",
       "  <thead>\n",
       "    <tr style=\"text-align: right;\">\n",
       "      <th></th>\n",
       "      <th>area_type</th>\n",
       "      <th>availability</th>\n",
       "      <th>location</th>\n",
       "      <th>size</th>\n",
       "      <th>total_sqft</th>\n",
       "      <th>bath</th>\n",
       "      <th>balcony</th>\n",
       "    </tr>\n",
       "  </thead>\n",
       "  <tbody>\n",
       "    <tr>\n",
       "      <th>151</th>\n",
       "      <td>Plot  Area</td>\n",
       "      <td>Immediate Possession</td>\n",
       "      <td>Chikkaballapur</td>\n",
       "      <td>NaN</td>\n",
       "      <td>1200 - 2000</td>\n",
       "      <td>NaN</td>\n",
       "      <td>NaN</td>\n",
       "    </tr>\n",
       "    <tr>\n",
       "      <th>1160</th>\n",
       "      <td>Plot  Area</td>\n",
       "      <td>Immediate Possession</td>\n",
       "      <td>Hosa Road</td>\n",
       "      <td>NaN</td>\n",
       "      <td>600 - 4000</td>\n",
       "      <td>NaN</td>\n",
       "      <td>NaN</td>\n",
       "    </tr>\n",
       "  </tbody>\n",
       "</table>\n",
       "</div>"
      ],
      "text/plain": [
       "       area_type          availability        location size   total_sqft  \\\n",
       "151   Plot  Area  Immediate Possession  Chikkaballapur  NaN  1200 - 2000   \n",
       "1160  Plot  Area  Immediate Possession       Hosa Road  NaN   600 - 4000   \n",
       "\n",
       "      bath  balcony  \n",
       "151    NaN      NaN  \n",
       "1160   NaN      NaN  "
      ]
     },
     "execution_count": 215,
     "metadata": {},
     "output_type": "execute_result"
    }
   ],
   "source": [
    "size_test_missing=pd.isnull(test[\"size\"])\n",
    "test[size_test_missing]"
   ]
  },
  {
   "cell_type": "code",
   "execution_count": 216,
   "metadata": {},
   "outputs": [],
   "source": [
    "#train_data=train_data.drop(train_data.index[[578,  1774,  2263,  2808,  2861,  5332,  6422,  6635,  6718, 7679,  8305,  8564,  8702, 10633, 11018, 11568]])\n"
   ]
  },
  {
   "cell_type": "code",
   "execution_count": 217,
   "metadata": {},
   "outputs": [
    {
     "name": "stdout",
     "output_type": "stream",
     "text": [
      "<class 'pandas.core.frame.DataFrame'>\n",
      "RangeIndex: 13320 entries, 0 to 13319\n",
      "Data columns (total 8 columns):\n",
      " #   Column        Non-Null Count  Dtype  \n",
      "---  ------        --------------  -----  \n",
      " 0   area_type     13320 non-null  object \n",
      " 1   availability  13320 non-null  object \n",
      " 2   location      13320 non-null  object \n",
      " 3   size          13304 non-null  object \n",
      " 4   total_sqft    13320 non-null  object \n",
      " 5   bath          13247 non-null  float64\n",
      " 6   balcony       12711 non-null  float64\n",
      " 7   price         13320 non-null  float64\n",
      "dtypes: float64(3), object(5)\n",
      "memory usage: 832.6+ KB\n"
     ]
    }
   ],
   "source": [
    "train_data.info()"
   ]
  },
  {
   "cell_type": "code",
   "execution_count": 218,
   "metadata": {},
   "outputs": [
    {
     "name": "stdout",
     "output_type": "stream",
     "text": [
      "<class 'pandas.core.frame.DataFrame'>\n",
      "RangeIndex: 1480 entries, 0 to 1479\n",
      "Data columns (total 7 columns):\n",
      " #   Column        Non-Null Count  Dtype  \n",
      "---  ------        --------------  -----  \n",
      " 0   area_type     1480 non-null   object \n",
      " 1   availability  1480 non-null   object \n",
      " 2   location      1480 non-null   object \n",
      " 3   size          1478 non-null   object \n",
      " 4   total_sqft    1480 non-null   object \n",
      " 5   bath          1473 non-null   float64\n",
      " 6   balcony       1411 non-null   float64\n",
      "dtypes: float64(2), object(5)\n",
      "memory usage: 81.1+ KB\n"
     ]
    }
   ],
   "source": [
    "#test= test.drop(test.index[[151, 1160]])\n",
    "test.info()"
   ]
  },
  {
   "cell_type": "code",
   "execution_count": 219,
   "metadata": {},
   "outputs": [],
   "source": [
    "import re\n",
    "import pickle\n",
    "def preprocess_total_sqft(my_list):\n",
    "    if len(my_list) == 1:\n",
    "        \n",
    "        try:\n",
    "            return float(my_list[0])\n",
    "        except:\n",
    "            strings = ['Sq. Meter', 'Sq. Yards', 'Perch', 'Acres', 'Cents', 'Guntha', 'Grounds']\n",
    "            split_list = re.split('(\\d*.*\\d)', my_list[0])[1:]\n",
    "            area = float(split_list[0])\n",
    "            type_of_area = split_list[1]\n",
    "            \n",
    "            if type_of_area == 'Sq. Meter':\n",
    "                area_in_sqft = area * 10.7639\n",
    "            elif type_of_area == 'Sq. Yards':\n",
    "                area_in_sqft = area * 9.0\n",
    "            elif type_of_area == 'Perch':\n",
    "                area_in_sqft = area * 272.25\n",
    "            elif type_of_area == 'Acres':\n",
    "                area_in_sqft = area * 43560.0\n",
    "            elif type_of_area == 'Cents':\n",
    "                area_in_sqft = area * 435.61545\n",
    "            elif type_of_area == 'Guntha':\n",
    "                area_in_sqft = area * 1089.0\n",
    "            elif type_of_area == 'Grounds':\n",
    "                area_in_sqft = area * 2400.0\n",
    "            return float(area_in_sqft)\n",
    "        \n",
    "    else:\n",
    "        return (float(my_list[0]) + float(my_list[1]))/2.0"
   ]
  },
  {
   "cell_type": "code",
   "execution_count": 220,
   "metadata": {},
   "outputs": [],
   "source": [
    "import math\n",
    "from sklearn.preprocessing import LabelEncoder\n",
    "\n",
    "train_data['size'] = train_data['size'].apply(lambda x: x.split(' ')[0] if isinstance(x,str) else np.nan)\n",
    "test['size'] = test['size'].apply(lambda x: x.split(' ')[0] if isinstance(x,str) else np.nan)\n",
    "\n",
    "\n",
    "train_data['total_sqft'] = train_data.total_sqft.str.split('-').apply(preprocess_total_sqft)\n",
    "test['total_sqft'] = test.total_sqft.str.split('-').apply(preprocess_total_sqft)\n",
    "\n",
    "\n",
    "train_data['size']=train_data['size'].astype(float)\n",
    "train_data['size'] = train_data.apply(lambda row: math.ceil(float(row['total_sqft']/550)) if np.isnan(row['size']) else row['size'], axis=1)\n",
    "\n",
    "test['size']=test['size'].astype(float)\n",
    "test['size'] = test.apply(lambda row: math.ceil(float(row['total_sqft']/550)) if np.isnan(row['size']) else row['size'], axis=1)\n",
    "\n",
    "combine=[train_data, test]\n",
    "label=LabelEncoder()\n",
    "for dataset in combine:\n",
    "    dataset['area_type_code']=label.fit_transform(dataset['area_type'])\n",
    "#     dataset['locationcode']=label.fit_transform(dataset['location'])\n",
    "    #dataset['total_sqftcode']=label.fit_transform(dataset['total_sqft'])\n",
    "    dataset['availabilitycode']=label.fit_transform(dataset['availability'])\n",
    "    #dataset['sizecode']=label.fit_transform(dataset['size'].astype('str'))\n"
   ]
  },
  {
   "cell_type": "code",
   "execution_count": 221,
   "metadata": {},
   "outputs": [],
   "source": [
    "# test['availability'].replace([\"Ready To Move\",\"Immediate Possession\"], 1, inplace=True)\n",
    "\n",
    "# test.loc[(test['availability']!=1),'availability'] = 0\n",
    "# test['availability']=test['availability'].astype(int)\n",
    "# test['availability'].value_counts()\n"
   ]
  },
  {
   "cell_type": "code",
   "execution_count": 222,
   "metadata": {},
   "outputs": [],
   "source": [
    "# train_data['availability'].replace([\"Ready To Move\",\"Immediate Possession\"], 1, inplace=True)\n",
    "\n",
    "# train_data.loc[(train_data['availability']!=1),'availability'] = 0\n",
    "\n",
    "# train_data['availability'].value_counts()\n",
    "# train_data['availability']=train_data['availability'].astype(int)"
   ]
  },
  {
   "cell_type": "code",
   "execution_count": 223,
   "metadata": {},
   "outputs": [],
   "source": [
    "# pip install selenium\n",
    "# pip install webdriver-manager\n",
    "# from selenium import webdriver\n",
    "# from webdriver_manager.chrome import ChromeDriverManager\n",
    "\n",
    "# driver = webdriver.Chrome(ChromeDriverManager().install())\n"
   ]
  },
  {
   "cell_type": "code",
   "execution_count": 224,
   "metadata": {},
   "outputs": [],
   "source": [
    "# df = pd.concat([train_data,test], ignore_index=True)\n",
    "\n",
    "\n",
    "# from IPython.core.interactiveshell import InteractiveShell\n",
    "# InteractiveShell.ast_node_interactivity = \"all\"\n",
    "\n",
    "# import warnings\n",
    "# warnings.filterwarnings('ignore')\n",
    "\n",
    "# uniq_locn=pd.DataFrame(df['location'].unique(), columns=['location'])\n",
    "# uniq_locn['browser_link'] = uniq_locn['location'].apply(lambda x: str(x) + \" Bangalore site:codepin.in\")\n",
    "\n",
    "\n",
    "# import os\n",
    "# from selenium import webdriver\n",
    "# from selenium.webdriver.common.keys import Keys\n",
    "# from selenium.webdriver.common.by import By\n",
    "# from selenium.common.exceptions import NoSuchElementException, WebDriverException\n",
    "# import requests\n",
    "# # get the path of ChromeDriverServer\n",
    "# dir = os.path.dirname(r\"C:\\Users\\Gaurav Kesari\\chromedriver.exe\")\n",
    "# chrome_driver_path = dir + \"\\chromedriver.exe\"\n",
    "\n",
    "# uniq_test = uniq_locn.copy(deep=True)\n",
    "\n",
    "# final_list=pd.DataFrame({'Place':[],\n",
    "#                          'Pin Code':[],\n",
    "#                          'Taluk':[],\n",
    "#                          'Division':[],\n",
    "#                          'District':[],\n",
    "#                          'State':[],\n",
    "#                         'Uniq':[]})\n",
    "\n",
    "# count=0\n",
    "# m=0\n",
    "# # create a new Chrome session\n",
    "# driver = webdriver.Chrome(chrome_driver_path)\n",
    "# driver.implicitly_wait(5)\n",
    "# driver.maximize_window()\n",
    "\n",
    "# for i in range(len(uniq_test)):\n",
    "    \n",
    "#     # Navigate to the application home page\n",
    "#     driver.get(\"http://www.bing.com/\")\n",
    "#     # get the search textbox\n",
    "#     #search_field = driver.find_element_by_name(\"q\")    #worked, for Google.com only\n",
    "#     search_field = driver.find_element_by_id(\"sb_form_q\")    #worked, for Bing Search\n",
    "    \n",
    "#     # enter search keyword and submit\n",
    "#     search_field.send_keys(uniq_test.iloc[i,0])\n",
    "#     search_field.submit()\n",
    "    \n",
    "#     try:\n",
    "#         #clicking the first link\n",
    "#         #driver.find_element(By.XPATH, '(//h3)[1]/a').click()    #worked, for Google.com only\n",
    "#         driver.find_element_by_partial_link_text(\"PIN CODE\").click()   #worked, for Bing Search\n",
    "\n",
    "#         #waiting for link to open fully\n",
    "#         driver.implicitly_wait(5)\n",
    "\n",
    "#         #copying the url of the browser\n",
    "#         url = driver.current_url\n",
    "\n",
    "#         html = requests.get(url).content\n",
    "#         df_list = pd.read_html(html)\n",
    "\n",
    "\n",
    "#         df = df_list[-1]\n",
    "#         df2=pd.DataFrame(df.iloc[1,:])\n",
    "#         df3=pd.DataFrame.transpose(df2).reset_index(drop=True)\n",
    "#         value=pd.DataFrame({'Place':[df3.iloc[0,0]],\n",
    "#                             'Pin Code':[df3.iloc[0,1]],\n",
    "#                             'Taluk':[df3.iloc[0,2]],\n",
    "#                             'Division':[df3.iloc[0,3]],\n",
    "#                             'District':[df3.iloc[0,4]],\n",
    "#                             'State':[df3.iloc[0,5]],\n",
    "#                             'Uniq':[uniq_test.iloc[i,0]]})\n",
    "#         final_list=final_list.append(value, ignore_index=True)\n",
    "#         m+=1\n",
    "#         print(m,\"  \",uniq_test.iloc[i,0])\n",
    "\n",
    "#     except (NoSuchElementException, WebDriverException) as e:\n",
    "#         count += 1\n",
    "#         pass\n",
    "#     driver.delete_all_cookies()\n",
    "\n",
    "# driver.close()\n",
    "        \n",
    "        \n",
    "# # Downloaded list of pincodes\n",
    "# location_df = pd.read_excel(r'..\\data\\\\additional_data\\location_pincodes.xlsx')\n",
    "\n",
    "# uniq_locn['pincode'] = (uniq_locn['browser_link']\n",
    "#                         .map(dict(zip(location_df['browser_link'],location_df['pincode']))))\n",
    "\n",
    "# uniq_locn.head()"
   ]
  },
  {
   "cell_type": "code",
   "execution_count": 225,
   "metadata": {},
   "outputs": [],
   "source": [
    "# df['location'] = df['location'].map(dict(zip(uniq_locn['location'],uniq_locn['pincode'])))\n",
    "# df.head()"
   ]
  },
  {
   "cell_type": "code",
   "execution_count": 226,
   "metadata": {},
   "outputs": [],
   "source": [
    "# df['location'].value_counts().head()"
   ]
  },
  {
   "cell_type": "code",
   "execution_count": 227,
   "metadata": {},
   "outputs": [],
   "source": [
    "\n",
    "# df['location'].isnull().sum()"
   ]
  },
  {
   "cell_type": "code",
   "execution_count": 228,
   "metadata": {},
   "outputs": [
    {
     "name": "stdout",
     "output_type": "stream",
     "text": [
      "<class 'pandas.core.frame.DataFrame'>\n",
      "RangeIndex: 13320 entries, 0 to 13319\n",
      "Data columns (total 7 columns):\n",
      " #   Column            Non-Null Count  Dtype  \n",
      "---  ------            --------------  -----  \n",
      " 0   size              13320 non-null  float64\n",
      " 1   total_sqft        13320 non-null  float64\n",
      " 2   bath              13247 non-null  float64\n",
      " 3   balcony           12711 non-null  float64\n",
      " 4   price             13320 non-null  float64\n",
      " 5   area_type_code    13320 non-null  int32  \n",
      " 6   availabilitycode  13320 non-null  int32  \n",
      "dtypes: float64(5), int32(2)\n",
      "memory usage: 624.5 KB\n",
      "None\n"
     ]
    }
   ],
   "source": [
    "from sklearn import feature_selection\n",
    "from sklearn import model_selection\n",
    "from sklearn import metrics\n",
    "import scipy as sp \n",
    "\n",
    "train_data=train_data.drop([\"area_type\",\"location\",\"availability\"], axis=1)\n",
    "test=test.drop([\"area_type\",\"location\",\"availability\"], axis=1)\n",
    "y=train_data.price\n",
    "X=train_data.drop(\"price\", axis=1)\n",
    "\n",
    "\n",
    "\n",
    "print(train_data.info())\n"
   ]
  },
  {
   "cell_type": "code",
   "execution_count": 229,
   "metadata": {},
   "outputs": [],
   "source": [
    "# train_data['total_sqft_band']=pd.qcut(train_data['total_sqft'], 5)\n",
    "# print(train_data[['total_sqft_band','price']].groupby(['total_sqft_band'], as_index = False).mean().sort_values(by=\"price\", ascending=True))\n",
    "# combine=[train_data, test]\n",
    "# for dataset in combine:\n",
    "#     dataset.loc[(dataset['total_sqft']>0.999) & (dataset['total_sqft']<=1050.0), 'total_sqft']=0\n",
    "#     dataset.loc[(dataset['total_sqft']>1050.0) & (dataset['total_sqft']<=1200.0), 'total_sqft']=1\n",
    "#     dataset.loc[(dataset['total_sqft']>1200.0) & (dataset['total_sqft']<=1407.0), 'total_sqft']=2\n",
    "#     dataset.loc[(dataset['total_sqft']>1407.0) & (dataset['total_sqft']<=1801.0), 'total_sqft']=3\n",
    "#     dataset.loc[(dataset['total_sqft']>1801.0) & (dataset['total_sqft']<=1306800.0), 'total_sqft']=4\n",
    "    "
   ]
  },
  {
   "cell_type": "code",
   "execution_count": 230,
   "metadata": {},
   "outputs": [
    {
     "name": "stdout",
     "output_type": "stream",
     "text": [
      "(13320, 7)\n",
      "<bound method DataFrame.info of        size  total_sqft  bath  balcony   price  area_type_code  \\\n",
      "0       2.0      1056.0   2.0      1.0   39.07               3   \n",
      "1       4.0      2600.0   5.0      3.0  120.00               2   \n",
      "2       3.0      1440.0   2.0      3.0   62.00               0   \n",
      "3       3.0      1521.0   3.0      1.0   95.00               3   \n",
      "4       2.0      1200.0   2.0      1.0   51.00               3   \n",
      "...     ...         ...   ...      ...     ...             ...   \n",
      "13315   5.0      3453.0   4.0      0.0  231.00               0   \n",
      "13316   4.0      3600.0   5.0      NaN  400.00               3   \n",
      "13317   2.0      1141.0   2.0      1.0   60.00               0   \n",
      "13318   4.0      4689.0   4.0      1.0  488.00               3   \n",
      "13319   1.0       550.0   1.0      1.0   17.00               3   \n",
      "\n",
      "       availabilitycode  \n",
      "0                    40  \n",
      "1                    80  \n",
      "2                    80  \n",
      "3                    80  \n",
      "4                    80  \n",
      "...                 ...  \n",
      "13315                80  \n",
      "13316                80  \n",
      "13317                80  \n",
      "13318                32  \n",
      "13319                80  \n",
      "\n",
      "[13320 rows x 7 columns]>\n",
      "<class 'pandas.core.frame.DataFrame'>\n",
      "RangeIndex: 1480 entries, 0 to 1479\n",
      "Data columns (total 6 columns):\n",
      " #   Column            Non-Null Count  Dtype  \n",
      "---  ------            --------------  -----  \n",
      " 0   size              1480 non-null   float64\n",
      " 1   total_sqft        1480 non-null   float64\n",
      " 2   bath              1473 non-null   float64\n",
      " 3   balcony           1411 non-null   float64\n",
      " 4   area_type_code    1480 non-null   int32  \n",
      " 5   availabilitycode  1480 non-null   int32  \n",
      "dtypes: float64(4), int32(2)\n",
      "memory usage: 57.9 KB\n",
      "None\n"
     ]
    }
   ],
   "source": [
    "#train_data=train_data.drop('total_sqft_band', axis=1)\n",
    "print(train_data.shape)\n",
    "print(train_data.info)\n",
    "print(test.info())"
   ]
  },
  {
   "cell_type": "code",
   "execution_count": 231,
   "metadata": {},
   "outputs": [
    {
     "data": {
      "text/plain": [
       "XGBRegressor(base_score=0.5, booster='gbtree', colsample_bylevel=1,\n",
       "             colsample_bynode=1, colsample_bytree=1, gamma=0, gpu_id=-1,\n",
       "             importance_type='gain', interaction_constraints='',\n",
       "             learning_rate=0.300000012, max_delta_step=0, max_depth=6,\n",
       "             min_child_weight=1, missing=nan, monotone_constraints='()',\n",
       "             n_estimators=1000, n_jobs=0, num_parallel_tree=1, random_state=0,\n",
       "             reg_alpha=0, reg_lambda=1, scale_pos_weight=1, subsample=1,\n",
       "             tree_method='exact', validate_parameters=1, verbosity=None)"
      ]
     },
     "execution_count": 231,
     "metadata": {},
     "output_type": "execute_result"
    },
    {
     "name": "stdout",
     "output_type": "stream",
     "text": [
      "68.23\n"
     ]
    }
   ],
   "source": [
    "#Machinelearning\n",
    "from sklearn.metrics import mean_absolute_error\n",
    "from sklearn.model_selection import train_test_split\n",
    "\n",
    "train_X, val_X, train_y, val_y = train_test_split(X, y, random_state=1)\n",
    "\n",
    "#from xgboost import XGBRegressor\n",
    "\n",
    "#import xgboost\n",
    "#from sklearn.model_selection import GridSearchCV\n",
    "\n",
    "#params = {'min_child_weight':[4,5,6], 'gamma':[i/10.0 for i in range(3,6)],  'subsample':[i/10.0 for i in range(6,11)],\n",
    "#'colsample_bytree':[i/10.0 for i in range(6,11)], 'max_depth': [2,3,4], 'n_estimators':[1000, 1500, 2000], \n",
    "          #'learning_rate':[0.01, 0.05, 0.1]}\n",
    "\n",
    "#xgb = xgboost.XGBRegressor(nthread=-1) \n",
    "\n",
    "#grid = GridSearchCV(xgb, params)\n",
    "\n",
    "\n",
    "\n",
    "\n",
    "\n",
    "\n",
    "from xgboost import XGBRegressor\n",
    "\n",
    "\n",
    "\n",
    "model_xgbregressor=XGBRegressor(n_estimators=1000)\n",
    "model_xgbregressor.fit(train_X, train_y, early_stopping_rounds=5, eval_set=[(val_X, val_y)], verbose=False)\n",
    "predictions=model_xgbregressor.predict(test)\n",
    "acc_xgb=round(model_xgbregressor.score(X,y)*100, 2)\n",
    "print(acc_xgb)   \n",
    "\n",
    "\n",
    "\n"
   ]
  },
  {
   "cell_type": "code",
   "execution_count": 232,
   "metadata": {},
   "outputs": [],
   "source": [
    "# from sklearn.ensemble import RandomForestRegressor\n",
    "# RF = RandomForestRegressor(bootstrap=True,\n",
    "#                            criterion='mse',\n",
    "#                            max_depth=27,\n",
    "#                            max_features='sqrt',\n",
    "#                            max_leaf_nodes=None,\n",
    "#                            min_impurity_decrease=0.0,\n",
    "#                            min_impurity_split=None,\n",
    "#                            min_samples_leaf=1,\n",
    "#                            min_samples_split=5,\n",
    "#                            min_weight_fraction_leaf=0.0,\n",
    "#                            n_estimators=260,\n",
    "#                            n_jobs=1,\n",
    "#                            oob_score=False,\n",
    "#                            random_state=None,\n",
    "#                            verbose=0,\n",
    "#                            warm_start=False)\n"
   ]
  },
  {
   "cell_type": "code",
   "execution_count": 233,
   "metadata": {},
   "outputs": [],
   "source": [
    "# RF.fit(train_X, train_y)"
   ]
  },
  {
   "cell_type": "code",
   "execution_count": 234,
   "metadata": {},
   "outputs": [],
   "source": [
    "# predictions = RF.predict(test)"
   ]
  },
  {
   "cell_type": "code",
   "execution_count": 235,
   "metadata": {
    "scrolled": true
   },
   "outputs": [],
   "source": [
    "# from sklearn.linear_model import LinearRegression\n",
    "# from sklearn.metrics import mean_squared_error\n",
    "# reg=LinearRegression()\n",
    "# reg = reg.fit(X, y)\n",
    "# predictions=reg.predict(test)\n",
    "\n",
    "# r2_score=reg.score(X,y)\n",
    "# print(r2_score)"
   ]
  },
  {
   "cell_type": "code",
   "execution_count": 236,
   "metadata": {},
   "outputs": [],
   "source": [
    "# from sklearn.model_selection import train_test_split\n",
    "# X_train, X_test, y_train, y_test = train_test_split(X,y,test_size=0.2,random_state=10)\n",
    "\n",
    "# from sklearn.linear_model import LinearRegression\n",
    "# lr_clf = LinearRegression()\n",
    "# lr_clf.fit(X_train,y_train)\n",
    "# lr_clf.score(X_test,y_test)\n",
    "\n",
    "# from sklearn.model_selection import ShuffleSplit\n",
    "# from sklearn.model_selection import cross_val_score\n",
    "\n",
    "# cv = ShuffleSplit(n_splits=5, test_size=0.2, random_state=0)\n",
    "\n",
    "# cross_val_score(LinearRegression(), X, y, cv=cv)\n",
    "\n",
    "\n",
    "\n",
    "# from sklearn.model_selection import GridSearchCV\n",
    "\n",
    "# from sklearn.linear_model import Lasso\n",
    "# from sklearn.tree import DecisionTreeRegressor\n",
    "\n",
    "# def find_best_model_using_gridsearchcv(X,Y):\n",
    "#     algos = {\n",
    "#         'linear_regression' : {\n",
    "#             'model': LinearRegression(),\n",
    "#             'params': {\n",
    "#                 'normalize': [True, False]\n",
    "#             }\n",
    "#         },\n",
    "#         'lasso': {\n",
    "#             'model': Lasso(),\n",
    "#             'params': {\n",
    "#                 'alpha': [1,2],\n",
    "#                 'selection': ['random', 'cyclic']\n",
    "#             }\n",
    "#         },\n",
    "#         'decision_tree': {\n",
    "#             'model': DecisionTreeRegressor(),\n",
    "#             'params': {\n",
    "#                 'criterion' : ['mse','friedman_mse'],\n",
    "#                 'splitter': ['best','random']\n",
    "#             }\n",
    "#         }\n",
    "#     }\n",
    "#     scores = []\n",
    "#     cv = ShuffleSplit(n_splits=5, test_size=0.2, random_state=0)\n",
    "#     for algo_name, config in algos.items():\n",
    "#         gs =  GridSearchCV(config['model'], config['params'], cv=cv, return_train_score=False)\n",
    "#         gs.fit(X,y)\n",
    "#         scores.append({\n",
    "#             'model': algo_name,\n",
    "#             'best_score': gs.best_score_,\n",
    "#             'best_params': gs.best_params_\n",
    "#         })\n",
    "\n",
    "#     return pd.DataFrame(scores,columns=['model','best_score','best_params'])\n",
    "\n",
    "# find_best_model_using_gridsearchcv(X,y)\n",
    "\n"
   ]
  },
  {
   "cell_type": "code",
   "execution_count": 237,
   "metadata": {},
   "outputs": [],
   "source": [
    "#grid.fit(X, y)\n",
    "#grid.best_estimator_\n",
    "\n",
    "#predictions = lr_clf.predict(test)\n",
    "#acc_xgb=round(predictions.score(X,y)*100, 2)\n",
    "#print(acc_xgb) \n",
    "# y_pred = model.predict(X_test)\n",
    "\n",
    "\n"
   ]
  },
  {
   "cell_type": "code",
   "execution_count": 238,
   "metadata": {},
   "outputs": [
    {
     "name": "stdout",
     "output_type": "stream",
     "text": [
      "Your submission was successfully saved!\n"
     ]
    }
   ],
   "source": [
    "output=pd.DataFrame({'price':predictions})\n",
    "output.to_excel('my_submission.xlsx', index=False)\n",
    "print(\"Your submission was successfully saved!\")\n",
    "#import sys\n",
    "#!{sys.executable} -m pip install xgboost"
   ]
  },
  {
   "cell_type": "code",
   "execution_count": 239,
   "metadata": {
    "scrolled": true
   },
   "outputs": [
    {
     "data": {
      "text/html": [
       "<div>\n",
       "<style scoped>\n",
       "    .dataframe tbody tr th:only-of-type {\n",
       "        vertical-align: middle;\n",
       "    }\n",
       "\n",
       "    .dataframe tbody tr th {\n",
       "        vertical-align: top;\n",
       "    }\n",
       "\n",
       "    .dataframe thead th {\n",
       "        text-align: right;\n",
       "    }\n",
       "</style>\n",
       "<table border=\"1\" class=\"dataframe\">\n",
       "  <thead>\n",
       "    <tr style=\"text-align: right;\">\n",
       "      <th></th>\n",
       "      <th>price</th>\n",
       "    </tr>\n",
       "  </thead>\n",
       "  <tbody>\n",
       "    <tr>\n",
       "      <th>0</th>\n",
       "      <td>58.583679</td>\n",
       "    </tr>\n",
       "    <tr>\n",
       "      <th>1</th>\n",
       "      <td>325.142975</td>\n",
       "    </tr>\n",
       "    <tr>\n",
       "      <th>2</th>\n",
       "      <td>176.739639</td>\n",
       "    </tr>\n",
       "    <tr>\n",
       "      <th>3</th>\n",
       "      <td>67.906815</td>\n",
       "    </tr>\n",
       "    <tr>\n",
       "      <th>4</th>\n",
       "      <td>55.131615</td>\n",
       "    </tr>\n",
       "    <tr>\n",
       "      <th>...</th>\n",
       "      <td>...</td>\n",
       "    </tr>\n",
       "    <tr>\n",
       "      <th>1475</th>\n",
       "      <td>65.664986</td>\n",
       "    </tr>\n",
       "    <tr>\n",
       "      <th>1476</th>\n",
       "      <td>102.227600</td>\n",
       "    </tr>\n",
       "    <tr>\n",
       "      <th>1477</th>\n",
       "      <td>58.583679</td>\n",
       "    </tr>\n",
       "    <tr>\n",
       "      <th>1478</th>\n",
       "      <td>39.173656</td>\n",
       "    </tr>\n",
       "    <tr>\n",
       "      <th>1479</th>\n",
       "      <td>56.357533</td>\n",
       "    </tr>\n",
       "  </tbody>\n",
       "</table>\n",
       "<p>1480 rows × 1 columns</p>\n",
       "</div>"
      ],
      "text/plain": [
       "           price\n",
       "0      58.583679\n",
       "1     325.142975\n",
       "2     176.739639\n",
       "3      67.906815\n",
       "4      55.131615\n",
       "...          ...\n",
       "1475   65.664986\n",
       "1476  102.227600\n",
       "1477   58.583679\n",
       "1478   39.173656\n",
       "1479   56.357533\n",
       "\n",
       "[1480 rows x 1 columns]"
      ]
     },
     "execution_count": 239,
     "metadata": {},
     "output_type": "execute_result"
    }
   ],
   "source": [
    "output"
   ]
  },
  {
   "cell_type": "code",
   "execution_count": null,
   "metadata": {},
   "outputs": [],
   "source": []
  },
  {
   "cell_type": "code",
   "execution_count": 240,
   "metadata": {},
   "outputs": [],
   "source": [
    "#model = RandomForestClassifier(n_estimators=100, max_depth=5, random_state=1)\n",
    "#model.fit(X, y)\n",
    "#predictions =model.predict(test)\n",
    "#acc_random_forest=round(model.score(X,y)*100, 2)\n",
    "#print(acc_random_forest)"
   ]
  }
 ],
 "metadata": {
  "kernelspec": {
   "display_name": "Python 3",
   "language": "python",
   "name": "python3"
  },
  "language_info": {
   "codemirror_mode": {
    "name": "ipython",
    "version": 3
   },
   "file_extension": ".py",
   "mimetype": "text/x-python",
   "name": "python",
   "nbconvert_exporter": "python",
   "pygments_lexer": "ipython3",
   "version": "3.8.3"
  }
 },
 "nbformat": 4,
 "nbformat_minor": 4
}
